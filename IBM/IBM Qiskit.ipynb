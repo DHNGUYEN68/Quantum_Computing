{
 "cells": [
  {
   "cell_type": "code",
   "execution_count": 2,
   "id": "earlier-rouge",
   "metadata": {},
   "outputs": [
    {
     "name": "stderr",
     "output_type": "stream",
     "text": [
      "C:\\Users\\dongh\\Anaconda3\\envs\\qiskit_env\\lib\\site-packages\\qiskit\\providers\\ibmq\\ibmqfactory.py:192: UserWarning: Timestamps in IBMQ backend properties, jobs, and job results are all now in local time instead of UTC.\n",
      "  warnings.warn('Timestamps in IBMQ backend properties, jobs, and job results '\n"
     ]
    }
   ],
   "source": [
    "from qiskit import QuantumCircuit, ClassicalRegister, QuantumRegister, execute, Aer, IBMQ\n",
    "from qiskit.visualization import plot_histogram\n",
    "from qiskit import IBMQ\n",
    "IBMQ.save_account('<IBM_Token>')\n",
    "provider = IBMQ.load_account()"
   ]
  },
  {
   "cell_type": "code",
   "execution_count": 4,
   "id": "surprised-democrat",
   "metadata": {},
   "outputs": [],
   "source": [
    "qreg = QuantumRegister(2, 'q')\n",
    "creg = ClassicalRegister(2, 'c')\n",
    "circuit = QuantumCircuit(qreg, creg)"
   ]
  },
  {
   "cell_type": "code",
   "execution_count": 5,
   "id": "honest-jones",
   "metadata": {},
   "outputs": [
    {
     "data": {
      "text/plain": [
       "<qiskit.circuit.instructionset.InstructionSet at 0x143bf216a60>"
      ]
     },
     "execution_count": 5,
     "metadata": {},
     "output_type": "execute_result"
    }
   ],
   "source": [
    "circuit.h(qreg[0])\n",
    "circuit.cx(qreg[0], qreg[1])\n",
    "circuit.measure(range(2), range(2))"
   ]
  },
  {
   "cell_type": "code",
   "execution_count": 6,
   "id": "august-valuable",
   "metadata": {},
   "outputs": [
    {
     "name": "stdout",
     "output_type": "stream",
     "text": [
      "{'00': 500, '11': 524}\n"
     ]
    },
    {
     "data": {
      "image/png": "[encoded data removed]",
      "text/plain": [
       "<Figure size 504x360 with 1 Axes>"
      ]
     },
     "execution_count": 6,
     "metadata": {},
     "output_type": "execute_result"
    }
   ],
   "source": [
    "backend = Aer.get_backend('qasm_simulator')\n",
    "counts = execute(circuit, backend).result().get_counts()\n",
    "print(counts)\n",
    "plot_histogram(counts)"
   ]
  },
  {
   "cell_type": "code",
   "execution_count": null,
   "id": "corporate-grain",
   "metadata": {},
   "outputs": [],
   "source": []
  }
 ],
 "metadata": {
  "kernelspec": {
   "display_name": "Python 3",
   "language": "python",
   "name": "python3"
  },
  "language_info": {
   "codemirror_mode": {
    "name": "ipython",
    "version": 3
   },
   "file_extension": ".py",
   "mimetype": "text/x-python",
   "name": "python",
   "nbconvert_exporter": "python",
   "pygments_lexer": "ipython3",
   "version": "3.8.5"
  }
 },
 "nbformat": 4,
 "nbformat_minor": 5
}
