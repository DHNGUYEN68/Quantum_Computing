{
 "cells": [
  {
   "cell_type": "code",
   "execution_count": 3,
   "id": "filled-munich",
   "metadata": {},
   "outputs": [],
   "source": [
    "import networkx as nx\n",
    "from collections import defaultdict\n",
    "from dwave.system import EmbeddingComposite, DWaveSampler"
   ]
  },
  {
   "cell_type": "code",
   "execution_count": 4,
   "id": "conservative-crawford",
   "metadata": {},
   "outputs": [],
   "source": [
    "G = nx.Graph()\n",
    "G.add_edges_from([(0,4),(0,5),(1,2),(1,6),(2,4),(3,7),(5,6),(6,7)])"
   ]
  },
  {
   "cell_type": "code",
   "execution_count": 5,
   "id": "vertical-barbados",
   "metadata": {},
   "outputs": [],
   "source": [
    "Q = defaultdict(int)"
   ]
  },
  {
   "cell_type": "code",
   "execution_count": 6,
   "id": "thousand-difference",
   "metadata": {},
   "outputs": [],
   "source": [
    "# constraints\n",
    "lagrange = 4\n",
    "for i in range(8):\n",
    "    Q[(i,i)] += 7*lagrange\n",
    "    for j in range (i+1,8):\n",
    "        Q[(i,j)] += 2*lagrange\n",
    "        \n",
    "# objective\n",
    "for i,j in G.edges:\n",
    "    Q[(i,i)] += 1\n",
    "    Q[(j,j)] += 1\n",
    "    Q[(i,j)] += 2   "
   ]
  },
  {
   "cell_type": "code",
   "execution_count": 7,
   "id": "daily-kentucky",
   "metadata": {},
   "outputs": [
    {
     "name": "stdout",
     "output_type": "stream",
     "text": [
      "   0  1  2  3  4  5  6  7 energy num_oc. chain_.\n",
      "0  0  0  0  0  0  0  0  0    0.0      10     0.0\n",
      "['BINARY', 1 rows, 10 samples, 8 variables]\n"
     ]
    }
   ],
   "source": [
    "# Define the sampler that will be used to run the problem\n",
    "sampler = EmbeddingComposite(DWaveSampler())\n",
    "\n",
    "# Run the problem on the sampler and print the results\n",
    "sampleset = sampler.sample_qubo(Q,num_reads=10, chain_strength=10)\n",
    "\n",
    "print(sampleset)"
   ]
  },
  {
   "cell_type": "code",
   "execution_count": null,
   "id": "floating-audio",
   "metadata": {},
   "outputs": [],
   "source": []
  }
 ],
 "metadata": {
  "kernelspec": {
   "display_name": "Python 3",
   "language": "python",
   "name": "python3"
  },
  "language_info": {
   "codemirror_mode": {
    "name": "ipython",
    "version": 3
   },
   "file_extension": ".py",
   "mimetype": "text/x-python",
   "name": "python",
   "nbconvert_exporter": "python",
   "pygments_lexer": "ipython3",
   "version": "3.8.3"
  }
 },
 "nbformat": 4,
 "nbformat_minor": 5
}
