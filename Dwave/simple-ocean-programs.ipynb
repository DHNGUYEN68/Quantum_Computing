{
 "cells": [
  {
   "cell_type": "code",
   "execution_count": 1,
   "id": "sensitive-discovery",
   "metadata": {},
   "outputs": [],
   "source": [
    "# --------------------------------------------------------------------------#\n",
    "# This program demonstrates a basic Ocean program that runs a QUBO problem on\n",
    "# the D-Wave QPU as a binary quadratic model (BQM).\n",
    "# --------------------------------------------------------------------------#\n",
    "# Import the functions and packages that are used\n",
    "from dwave.system import EmbeddingComposite, DWaveSampler\n",
    "from dimod import BinaryQuadraticModel"
   ]
  },
  {
   "cell_type": "code",
   "execution_count": 2,
   "id": "driven-dream",
   "metadata": {},
   "outputs": [],
   "source": [
    "# Define the problem as a Python dictionary and convert it to a BQM\n",
    "Q = {('B','B'): 1,\n",
    "    ('K','K'): 1,\n",
    "    ('A','C'): 2,\n",
    "    ('A','K'): -2,\n",
    "    ('B','C'): -2}\n",
    "\n",
    "# Convert the problem to a BQM\n",
    "bqm = BinaryQuadraticModel.from_qubo(Q)"
   ]
  },
  {
   "cell_type": "code",
   "execution_count": 3,
   "id": "curious-myanmar",
   "metadata": {},
   "outputs": [
    {
     "name": "stdout",
     "output_type": "stream",
     "text": [
      "   A  B  C  K energy num_oc. chain_.\n",
      "0  1  0  0  1   -1.0       8     0.0\n",
      "1  0  1  1  0   -1.0       2     0.0\n",
      "['BINARY', 2 rows, 10 samples, 4 variables]\n"
     ]
    }
   ],
   "source": [
    "# Define the sampler that will be used to run the problem\n",
    "sampler = EmbeddingComposite(DWaveSampler())\n",
    "\n",
    "# Run the problem on the sampler and print the results\n",
    "sampleset = sampler.sample(bqm,\n",
    "                           num_reads = 10,\n",
    "                           label='Example - Simple Ocean Programs: BQM')\n",
    "print(sampleset)"
   ]
  },
  {
   "cell_type": "code",
   "execution_count": null,
   "id": "suspected-blink",
   "metadata": {},
   "outputs": [],
   "source": []
  }
 ],
 "metadata": {
  "kernelspec": {
   "display_name": "Python 3",
   "language": "python",
   "name": "python3"
  },
  "language_info": {
   "codemirror_mode": {
    "name": "ipython",
    "version": 3
   },
   "file_extension": ".py",
   "mimetype": "text/x-python",
   "name": "python",
   "nbconvert_exporter": "python",
   "pygments_lexer": "ipython3",
   "version": "3.8.3"
  }
 },
 "nbformat": 4,
 "nbformat_minor": 5
}
